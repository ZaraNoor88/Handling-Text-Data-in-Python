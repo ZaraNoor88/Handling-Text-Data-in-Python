{
 "cells": [
  {
   "cell_type": "code",
   "execution_count": 1,
   "id": "dd097876",
   "metadata": {},
   "outputs": [],
   "source": [
    "text1 = 'Text data is everywhere' "
   ]
  },
  {
   "cell_type": "code",
   "execution_count": 2,
   "id": "285e6025",
   "metadata": {},
   "outputs": [
    {
     "data": {
      "text/plain": [
       "23"
      ]
     },
     "execution_count": 2,
     "metadata": {},
     "output_type": "execute_result"
    }
   ],
   "source": [
    "len(text1)"
   ]
  },
  {
   "cell_type": "code",
   "execution_count": 3,
   "id": "346eaa30",
   "metadata": {},
   "outputs": [
    {
     "name": "stdout",
     "output_type": "stream",
     "text": [
      "word tokens are: ['Text', 'data', 'is', 'everywhere']\n",
      "length is:  4\n"
     ]
    }
   ],
   "source": [
    "# Word Tokenize\n",
    "text2 = text1.split(' ')\n",
    "print(\"word tokens are:\",text2)\n",
    "print(\"length is: \", len(text2))"
   ]
  },
  {
   "cell_type": "markdown",
   "id": "6a4663a6",
   "metadata": {},
   "source": [
    "## Find Specific Words"
   ]
  },
  {
   "cell_type": "code",
   "execution_count": 4,
   "id": "419f592d",
   "metadata": {},
   "outputs": [
    {
     "data": {
      "text/plain": [
       "['Text', 'data', 'everywhere']"
      ]
     },
     "execution_count": 4,
     "metadata": {},
     "output_type": "execute_result"
    }
   ],
   "source": [
    "# Find out Long words\n",
    "[w for w in text2 if len(w) > 3]"
   ]
  },
  {
   "cell_type": "code",
   "execution_count": 5,
   "id": "7d82acb8",
   "metadata": {},
   "outputs": [
    {
     "data": {
      "text/plain": [
       "['Text']"
      ]
     },
     "execution_count": 5,
     "metadata": {},
     "output_type": "execute_result"
    }
   ],
   "source": [
    "# Find Captalize words\n",
    "[w for w in text2 if w.istitle()]"
   ]
  },
  {
   "cell_type": "code",
   "execution_count": 6,
   "id": "b3556079",
   "metadata": {},
   "outputs": [
    {
     "data": {
      "text/plain": [
       "['data', 'is', 'everywhere']"
      ]
     },
     "execution_count": 6,
     "metadata": {},
     "output_type": "execute_result"
    }
   ],
   "source": [
    "# Find Lowercase words\n",
    "[w for w in text2 if w.islower()]"
   ]
  },
  {
   "cell_type": "code",
   "execution_count": 7,
   "id": "ccbc1502",
   "metadata": {},
   "outputs": [
    {
     "data": {
      "text/plain": [
       "['data']"
      ]
     },
     "execution_count": 7,
     "metadata": {},
     "output_type": "execute_result"
    }
   ],
   "source": [
    "# Words end with specific letter\n",
    "[w for w in text2 if w.endswith('a')]"
   ]
  },
  {
   "cell_type": "markdown",
   "id": "ef6c84ce",
   "metadata": {},
   "source": [
    "# Find Unique Words"
   ]
  },
  {
   "cell_type": "code",
   "execution_count": 8,
   "id": "75a62c3c",
   "metadata": {},
   "outputs": [
    {
     "data": {
      "text/plain": [
       "16"
      ]
     },
     "execution_count": 8,
     "metadata": {},
     "output_type": "execute_result"
    }
   ],
   "source": [
    "text3 = 'It is what it is'\n",
    "len(text3)"
   ]
  },
  {
   "cell_type": "code",
   "execution_count": 9,
   "id": "c8aec40d",
   "metadata": {},
   "outputs": [
    {
     "data": {
      "text/plain": [
       "['It', 'is', 'what', 'it', 'is']"
      ]
     },
     "execution_count": 9,
     "metadata": {},
     "output_type": "execute_result"
    }
   ],
   "source": [
    "text4 = text3.split(' ')\n",
    "text4"
   ]
  },
  {
   "cell_type": "code",
   "execution_count": 10,
   "id": "a8877778",
   "metadata": {},
   "outputs": [
    {
     "data": {
      "text/plain": [
       "{'It', 'is', 'it', 'what'}"
      ]
     },
     "execution_count": 10,
     "metadata": {},
     "output_type": "execute_result"
    }
   ],
   "source": [
    "set(text4)"
   ]
  },
  {
   "cell_type": "code",
   "execution_count": 11,
   "id": "fb629f15",
   "metadata": {},
   "outputs": [
    {
     "data": {
      "text/plain": [
       "4"
      ]
     },
     "execution_count": 11,
     "metadata": {},
     "output_type": "execute_result"
    }
   ],
   "source": [
    "len(set(text4))"
   ]
  },
  {
   "cell_type": "code",
   "execution_count": 12,
   "id": "8bbbf638",
   "metadata": {},
   "outputs": [
    {
     "data": {
      "text/plain": [
       "{'is', 'it', 'what'}"
      ]
     },
     "execution_count": 12,
     "metadata": {},
     "output_type": "execute_result"
    }
   ],
   "source": [
    "# Converting to Lower Case\n",
    "set([w.lower() for w in text4])"
   ]
  },
  {
   "cell_type": "code",
   "execution_count": 13,
   "id": "229285ee",
   "metadata": {},
   "outputs": [
    {
     "data": {
      "text/plain": [
       "3"
      ]
     },
     "execution_count": 13,
     "metadata": {},
     "output_type": "execute_result"
    }
   ],
   "source": [
    "len(set([w.lower() for w in text4]))"
   ]
  },
  {
   "cell_type": "markdown",
   "id": "ae721a68",
   "metadata": {},
   "source": [
    "There are 3 unique words irrespective of its casing."
   ]
  },
  {
   "cell_type": "markdown",
   "id": "068b09fa",
   "metadata": {},
   "source": [
    "# Find Digits and Alphabets"
   ]
  },
  {
   "cell_type": "code",
   "execution_count": 14,
   "id": "f702368c",
   "metadata": {},
   "outputs": [
    {
     "data": {
      "text/plain": [
       "39"
      ]
     },
     "execution_count": 14,
     "metadata": {},
     "output_type": "execute_result"
    }
   ],
   "source": [
    "text5 = 'The code ABC123 processed 5 data points'\n",
    "len(text5)"
   ]
  },
  {
   "cell_type": "code",
   "execution_count": 15,
   "id": "668f8a30",
   "metadata": {},
   "outputs": [
    {
     "data": {
      "text/plain": [
       "False"
      ]
     },
     "execution_count": 15,
     "metadata": {},
     "output_type": "execute_result"
    }
   ],
   "source": [
    "text5.isalpha()"
   ]
  },
  {
   "cell_type": "markdown",
   "id": "c80a14ed",
   "metadata": {},
   "source": [
    "The output shows that the string not only contains alphabets but also spaces and digits.Similarly other outputs."
   ]
  },
  {
   "cell_type": "code",
   "execution_count": 16,
   "id": "1c640559",
   "metadata": {},
   "outputs": [
    {
     "data": {
      "text/plain": [
       "False"
      ]
     },
     "execution_count": 16,
     "metadata": {},
     "output_type": "execute_result"
    }
   ],
   "source": [
    "text5.isdigit()"
   ]
  },
  {
   "cell_type": "code",
   "execution_count": 17,
   "id": "0a49993d",
   "metadata": {},
   "outputs": [
    {
     "data": {
      "text/plain": [
       "False"
      ]
     },
     "execution_count": 17,
     "metadata": {},
     "output_type": "execute_result"
    }
   ],
   "source": [
    "text5.isalnum()"
   ]
  },
  {
   "cell_type": "code",
   "execution_count": 18,
   "id": "cadd6c21",
   "metadata": {},
   "outputs": [
    {
     "data": {
      "text/plain": [
       "['The', 'code', 'processed', 'data', 'points']"
      ]
     },
     "execution_count": 18,
     "metadata": {},
     "output_type": "execute_result"
    }
   ],
   "source": [
    "# Extracting alphabets only\n",
    "text6 = text5.split(' ')\n",
    "[w for w in text6 if w.isalpha()]"
   ]
  },
  {
   "cell_type": "code",
   "execution_count": 19,
   "id": "74ed1862",
   "metadata": {},
   "outputs": [
    {
     "data": {
      "text/plain": [
       "['5']"
      ]
     },
     "execution_count": 19,
     "metadata": {},
     "output_type": "execute_result"
    }
   ],
   "source": [
    "# Extracting digits only\n",
    "[w for w in text6 if w.isdigit()]"
   ]
  },
  {
   "cell_type": "code",
   "execution_count": 20,
   "id": "a8552965",
   "metadata": {},
   "outputs": [
    {
     "data": {
      "text/plain": [
       "['The', 'code', 'ABC123', 'processed', '5', 'data', 'points']"
      ]
     },
     "execution_count": 20,
     "metadata": {},
     "output_type": "execute_result"
    }
   ],
   "source": [
    "# Extracting all alphanumberic words\n",
    "[w for w in text6 if w.isalnum()]"
   ]
  },
  {
   "cell_type": "markdown",
   "id": "7a1d43f9",
   "metadata": {},
   "source": [
    "# Splitting and Joining Sentences"
   ]
  },
  {
   "cell_type": "code",
   "execution_count": 21,
   "id": "5a2f1863",
   "metadata": {},
   "outputs": [
    {
     "data": {
      "text/plain": [
       "54"
      ]
     },
     "execution_count": 21,
     "metadata": {},
     "output_type": "execute_result"
    }
   ],
   "source": [
    "text7 = 'Data is of various forms.\\nTextual data is one of them.'\n",
    "len(text7)"
   ]
  },
  {
   "cell_type": "code",
   "execution_count": 22,
   "id": "b93ba39c",
   "metadata": {},
   "outputs": [
    {
     "data": {
      "text/plain": [
       "['Data is of various forms.', 'Textual data is one of them.']"
      ]
     },
     "execution_count": 22,
     "metadata": {},
     "output_type": "execute_result"
    }
   ],
   "source": [
    "text8 = text7.splitlines()\n",
    "text8"
   ]
  },
  {
   "cell_type": "code",
   "execution_count": 23,
   "id": "7acc9d82",
   "metadata": {},
   "outputs": [
    {
     "data": {
      "text/plain": [
       "'Data is of various forms.Textual data is one of them.'"
      ]
     },
     "execution_count": 23,
     "metadata": {},
     "output_type": "execute_result"
    }
   ],
   "source": [
    "''.join(text8)"
   ]
  },
  {
   "cell_type": "markdown",
   "id": "3935e628",
   "metadata": {},
   "source": [
    "# Removing Extra spaces and tabs"
   ]
  },
  {
   "cell_type": "code",
   "execution_count": 24,
   "id": "c2a7483d",
   "metadata": {},
   "outputs": [],
   "source": [
    "text9 = '   This is first line. This is second line.  \\n'"
   ]
  },
  {
   "cell_type": "code",
   "execution_count": 25,
   "id": "b45a9455",
   "metadata": {},
   "outputs": [
    {
     "data": {
      "text/plain": [
       "['',\n",
       " '',\n",
       " '',\n",
       " 'This',\n",
       " 'is',\n",
       " 'first',\n",
       " 'line.',\n",
       " 'This',\n",
       " 'is',\n",
       " 'second',\n",
       " 'line.',\n",
       " '',\n",
       " '\\n']"
      ]
     },
     "execution_count": 25,
     "metadata": {},
     "output_type": "execute_result"
    }
   ],
   "source": [
    "text9.split(' ')"
   ]
  },
  {
   "cell_type": "code",
   "execution_count": 26,
   "id": "947a93b8",
   "metadata": {},
   "outputs": [
    {
     "data": {
      "text/plain": [
       "'This is first line. This is second line.'"
      ]
     },
     "execution_count": 26,
     "metadata": {},
     "output_type": "execute_result"
    }
   ],
   "source": [
    "text10 = text9.strip()\n",
    "text10"
   ]
  },
  {
   "cell_type": "markdown",
   "id": "0ecb6e87",
   "metadata": {},
   "source": [
    "# Find and Replace "
   ]
  },
  {
   "cell_type": "code",
   "execution_count": 27,
   "id": "bd60be3a",
   "metadata": {},
   "outputs": [
    {
     "data": {
      "text/plain": [
       "'This is first line. This is second line.'"
      ]
     },
     "execution_count": 27,
     "metadata": {},
     "output_type": "execute_result"
    }
   ],
   "source": [
    "text10"
   ]
  },
  {
   "cell_type": "code",
   "execution_count": 28,
   "id": "d9541f5a",
   "metadata": {},
   "outputs": [
    {
     "data": {
      "text/plain": [
       "2"
      ]
     },
     "execution_count": 28,
     "metadata": {},
     "output_type": "execute_result"
    }
   ],
   "source": [
    "text10.find('i') # from start of line"
   ]
  },
  {
   "cell_type": "code",
   "execution_count": 29,
   "id": "df43ad46",
   "metadata": {},
   "outputs": [
    {
     "data": {
      "text/plain": [
       "36"
      ]
     },
     "execution_count": 29,
     "metadata": {},
     "output_type": "execute_result"
    }
   ],
   "source": [
    "text10.rfind('i') # from end of line"
   ]
  },
  {
   "cell_type": "code",
   "execution_count": 30,
   "id": "460cfdf8",
   "metadata": {},
   "outputs": [
    {
     "data": {
      "text/plain": [
       "'ThIs Is fIrst lIne. ThIs Is second lIne.'"
      ]
     },
     "execution_count": 30,
     "metadata": {},
     "output_type": "execute_result"
    }
   ],
   "source": [
    "text10.replace('i','I')"
   ]
  },
  {
   "cell_type": "code",
   "execution_count": null,
   "id": "2b0e332f",
   "metadata": {},
   "outputs": [],
   "source": []
  }
 ],
 "metadata": {
  "kernelspec": {
   "display_name": "Python 3 (ipykernel)",
   "language": "python",
   "name": "python3"
  },
  "language_info": {
   "codemirror_mode": {
    "name": "ipython",
    "version": 3
   },
   "file_extension": ".py",
   "mimetype": "text/x-python",
   "name": "python",
   "nbconvert_exporter": "python",
   "pygments_lexer": "ipython3",
   "version": "3.11.5"
  }
 },
 "nbformat": 4,
 "nbformat_minor": 5
}
